{
 "cells": [
  {
   "cell_type": "code",
   "execution_count": null,
   "metadata": {},
   "outputs": [],
   "source": [
    "# Dependencies\n",
    "import requests\n",
    "import pandas as pd\n",
    "import matplotlib as plt\n",
    "import numpy as np\n",
    "import json\n",
    "import sqlalchemy\n",
    "from sqlalchemy import create_engine"
   ]
  },
  {
   "cell_type": "code",
   "execution_count": null,
   "metadata": {},
   "outputs": [],
   "source": [
    "# Save url as variable\n",
    "url = \"https://us-states.p.rapidapi.com/all\"\n",
    "\n",
    "# Set headers\n",
    "headers = {\n",
    "\t\"X-RapidAPI-Key\": \"575ca32490msh5a85e1221a9daf0p10835bjsnfdf17e56a208\",\n",
    "\t\"X-RapidAPI-Host\": \"us-states.p.rapidapi.com\"\n",
    "}\n",
    "\n",
    "# Make a GET request and save in variable\n",
    "response = requests.request(\"GET\", url, headers=headers)\n",
    "data = response.json()\n",
    "\n",
    "# Print the response\n",
    "print(response.text)"
   ]
  },
  {
   "cell_type": "code",
   "execution_count": null,
   "metadata": {},
   "outputs": [],
   "source": [
    "# Write the data to a json file\n",
    "with open('data.json', 'w') as outfile:\n",
    "    json.dump(data, outfile, indent=4)"
   ]
  },
  {
   "cell_type": "code",
   "execution_count": null,
   "metadata": {},
   "outputs": [],
   "source": [
    "# Create a pandas data frame\n",
    "df = pd.json_normalize(response.json())\n",
    "df"
   ]
  },
  {
   "cell_type": "code",
   "execution_count": null,
   "metadata": {},
   "outputs": [],
   "source": [
    "# Check data types\n",
    "df.dtypes"
   ]
  },
  {
   "cell_type": "code",
   "execution_count": null,
   "metadata": {},
   "outputs": [],
   "source": [
    "# Check the counts\n",
    "df.count()"
   ]
  },
  {
   "cell_type": "code",
   "execution_count": null,
   "metadata": {},
   "outputs": [],
   "source": [
    "# Slice the data frame to check for nulls\n",
    "df.iloc[:,196:203]"
   ]
  },
  {
   "cell_type": "code",
   "execution_count": null,
   "metadata": {},
   "outputs": [],
   "source": [
    "# Drop all territories\n",
    "states_df = df.drop([2,11,36,41,47])\n",
    "states_df"
   ]
  },
  {
   "cell_type": "code",
   "execution_count": null,
   "metadata": {},
   "outputs": [],
   "source": [
    "# Drop half of the columns that have nulls\n",
    "clean_states_df = states_df.drop(columns=['status','other_nicknames','standard_federal_region','status','other_nicknames','standard_federal_region','koppen_climate','population.density_km','elevation.min_ft','elevation.min_m','elevation.mean_ft','elevation.span_ft','elevation.mean_rank','elevation.span_m','elevation.mean_m','elevation.max_m','area.land_km','area.water_rank','area.total_rank','area.land_mi','area.water_km','area.total_km','area.land_percent','area.water_mi','area.water_percent','symbols.mascot','symbols.fruit','symbols.tree fruit','symbols.soil','symbols.game bird','symbols.reptile','symbols.amphibian','symbols.nut','symbols.vegetable','symbols.rock','symbols.saltwater fish','symbols.mammal','symbols.butterfly','symbols.cake','symbols.insect','symbols.mineral','symbols.spirit','symbols.fossil','symbols.freshwater fish','symbols.wildflower','symbols.shell','symbols.land mammal','symbols.fish','symbols.bolt action rifle','symbols.dog','symbols.marine mammal','symbols.sport','symbols.plant','symbols.metal','symbols.colors','symbols.drink','symbols.firearm','symbols.dinosaur','symbols.floral emblem','symbols.folk dance','symbols.grape','symbols.fruit and vegetable','symbols.musical instrument','symbols.primitive fish','symbols.grain','symbols.cooking pot','symbols.lichen','symbols.grass','symbols.marine reptile','symbols.dance','symbols.tartan','symbols.gold rush ghost town', 'symbols.marine animal','symbols.macroinvertebrate','symbols.wildlife animal','symbols.dessert','symbols.bug','symbols.beverage','symbols.herb','symbols.saltwater mammal','symbols.heritage cattle breed','symbols.pie','symbols.stone','symbols.tortoise','symbols.saltwater reptile','symbols.prepared food','symbols.waltz','symbols.cold water gamefish','symbols.crop','symbols.raptor','symbols.exercise','symbols.artifact','symbols.snackfood','symbols.prairie grass','symbols.slogan','symbols.river','symbols.rifle','symbols.red wine grape','symbols.white wine grape','symbols.flying fossil','symbols.gun', 'symbols.wild animal game species',\t'symbols.sports car', 'symbols.crustacean',\t'symbols.meat pie','symbols.berry',\t'symbols.treat','symbols.ballad','symbols.cat','symbols.team sport','symbols.donut','symbols.bean',\t'symbols.cookie','symbols.muffin','symbols.folk song', 'symbols.bee','symbols.mushroom', 'symbols.waterfowl','symbols.toy','symbols.tree nut','symbols.fruit tree','symbols.hockey team','symbols.football team','symbols.endangered species','symbols.soft drink','symbols.poultry','symbols.saltwater game fish','symbols.freshwater game fish','symbols.spider','symbols.cryptid','symbols.bush','symbols.freshwater trout','symbols.salamander', 'symbols.marsupial','symbols.flying mammal','symbols.game animal','symbols.microbe','symbols.coral','symbols.appetizer','symbols.heritage horse','symbols.jewelry','symbols.bread','symbols.shrub','symbols.pastry','symbols.dish','symbols.handgun','symbols.hymn', 'symbols.astronomical symbol','symbols.emblem','symbols.heritage livestock','symbols.bat','symbols.oyster','symbols.cocktail','symbols.domestic animal','symbols.hero','symbols.shellfish',\"symbols.children's flower\",'symbols.heroine','symbols.polka','symbols.music','symbols.game mammal','symbols.aquatic animal','symbols.frog','symbols.star','symbols.horse','symbols.neckwear','symbols.silver rush ghost town','symbols.marine fish','symbols.fabric',\t'symbols.pets',\t'symbols.cactus','symbols.animal','population.density_mi','ap_abbreviation','gpo_abbreviation'])\n",
    "clean_states_df"
   ]
  },
  {
   "cell_type": "code",
   "execution_count": null,
   "metadata": {},
   "outputs": [],
   "source": [
    "# Show all columns of data frame\n",
    "pd.options.display.max_columns = None\n",
    "clean_states_df"
   ]
  },
  {
   "cell_type": "code",
   "execution_count": null,
   "metadata": {},
   "outputs": [],
   "source": [
    "# Save url as variable\n",
    "url = \"https://jsearch.p.rapidapi.com/search\"\n",
    "\n",
    "# Set querystring \n",
    "querystring = {\"query\":\"Entry Level Data Scientist in USA\",\"num_pages\":\"20\"}\n",
    "\n",
    "# Set headers\n",
    "headers = {\n",
    "\t\"X-RapidAPI-Key\": \"575ca32490msh5a85e1221a9daf0p10835bjsnfdf17e56a208\",\n",
    "\t\"X-RapidAPI-Host\": \"jsearch.p.rapidapi.com\"\n",
    "}\n",
    "\n",
    "# Make a GET request and save in variable\n",
    "response = requests.request(\"GET\", url, headers=headers, params=querystring)\n",
    "entry_level_data_scientists = response.json()\n",
    "\n",
    "# Write the data to a json file\n",
    "with open('entry_level_data_scientists.json', 'w') as outfile:\n",
    "    json.dump(entry_level_data_scientists, outfile, indent=4)\n",
    "\n",
    "\n",
    "# Print response\n",
    "print(response.text)"
   ]
  },
  {
   "cell_type": "code",
   "execution_count": null,
   "metadata": {},
   "outputs": [],
   "source": [
    "# Save url as variable\n",
    "url = \"https://jsearch.p.rapidapi.com/search\"\n",
    "\n",
    "# Set querystring\n",
    "querystring = {\"query\":\"Entry Level Data Analyst in USA\",\"num_pages\":\"20\"}\n",
    "\n",
    "# Set headers\n",
    "headers = {\n",
    "\t\"X-RapidAPI-Key\": \"575ca32490msh5a85e1221a9daf0p10835bjsnfdf17e56a208\",\n",
    "\t\"X-RapidAPI-Host\": \"jsearch.p.rapidapi.com\"\n",
    "}\n",
    "\n",
    "# Make a GET request and save in variable\n",
    "response = requests.request(\"GET\", url, headers=headers, params=querystring)\n",
    "entry_level_data_analyst = response.json()\n",
    "\n",
    "# Write the data to a json file\n",
    "with open('entry_level_data_analyst.json', 'w') as outfile:\n",
    "    json.dump(entry_level_data_analyst, outfile, indent=4)\n",
    "\n",
    "\n",
    "# Print response\n",
    "print(response.text)"
   ]
  },
  {
   "cell_type": "code",
   "execution_count": null,
   "metadata": {},
   "outputs": [],
   "source": [
    "# Select certain columns to be used and turn json file into a pandas data frame \n",
    "columns = [\"employer_name\",\"job_title\",\"job_apply_link\",\"job_description\",\"job_is_remote\",\"job_city\",\"job_state\",\"job_country\",\"job_latitude\",\"job_longitude\"]\n",
    "df = pd.json_normalize(entry_level_data_analyst, 'data')\n",
    "new_df = df.loc[:, columns]\n",
    "new_df"
   ]
  },
  {
   "cell_type": "code",
   "execution_count": null,
   "metadata": {},
   "outputs": [],
   "source": [
    "# Select certain columns to be used and turn json file into a pandas data frame \n",
    "columns = [\"employer_name\",\"job_title\",\"job_apply_link\",\"job_description\",\"job_is_remote\",\"job_city\",\"job_state\",\"job_country\",\"job_latitude\",\"job_longitude\"]\n",
    "df2 = pd.json_normalize(entry_level_data_scientists, 'data')\n",
    "new_data_df = df2.loc[:, columns]\n",
    "new_data_df"
   ]
  },
  {
   "cell_type": "code",
   "execution_count": null,
   "metadata": {},
   "outputs": [],
   "source": [
    "# Merge the two data frames together \n",
    "result_df = pd.merge(new_df, new_data_df, on='employer_name')\n",
    "result_df"
   ]
  },
  {
   "cell_type": "code",
   "execution_count": null,
   "metadata": {},
   "outputs": [],
   "source": [
    "# Connect to local database\n",
    "protocol = 'postgresql'\n",
    "username = 'postgres'\n",
    "password = 'postgres'\n",
    "host = 'localhost'\n",
    "port = 5432\n",
    "database_name = 'states_data_db'\n",
    "connection = f'{protocol}://{username}:{password}@{host}:{port}/{database_name}'\n",
    "engine = create_engine(connection)"
   ]
  },
  {
   "cell_type": "code",
   "execution_count": null,
   "metadata": {},
   "outputs": [],
   "source": []
  }
 ],
 "metadata": {
  "kernelspec": {
   "display_name": "Python 3.9.6 64-bit",
   "language": "python",
   "name": "python3"
  },
  "language_info": {
   "codemirror_mode": {
    "name": "ipython",
    "version": 3
   },
   "file_extension": ".py",
   "mimetype": "text/x-python",
   "name": "python",
   "nbconvert_exporter": "python",
   "pygments_lexer": "ipython3",
   "version": "3.9.6"
  },
  "orig_nbformat": 4,
  "vscode": {
   "interpreter": {
    "hash": "31f2aee4e71d21fbe5cf8b01ff0e069b9275f58929596ceb00d14d90e3e16cd6"
   }
  }
 },
 "nbformat": 4,
 "nbformat_minor": 2
}
